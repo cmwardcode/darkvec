{
 "cells": [
  {
   "cell_type": "markdown",
   "id": "premium-diagram",
   "metadata": {},
   "source": [
    "# <b>DarkVec: Automatic Analysis of Darknet Trafficwith Word Embeddings</b>\n",
    "## <b>Darknet Overview</b> "
   ]
  },
  {
   "cell_type": "markdown",
   "id": "steady-traveler",
   "metadata": {},
   "source": [
    "___\n",
    "# <b>Table of Content</b> <a id=\"toc_\"></a>\n",
    "* [<b>Darknet Traffic Overview</b>](#darknet)  \n",
    "  * [Port Ranking](#portranking)  \n",
    "  * [Darknet IPs Activity Pattern](#darknetpattern)  \n",
    "  * [Dataset Statistics](#dataset)  \n",
    "  * [Filter Definition](#darknetfilter)  \n",
    "  * [Distinct IPs Seen Over 30 Days](#darknetips)  \n",
    "  * [Last Day of Traffic](#lastday)  \n",
    "    * [Some Notable GT Activity Patterns](#gtpattern)\n",
    "  * [Ground Truth/Services Incidence](#gtserv)  \n",
    "  \n",
    "\n",
    "This notebook provides an overview of the collected darknet traffic. We go through the paper reporting the snippets that generate the statistics and the reported Figures. Namely, this report is related to Section 3 of the paper.\n",
    "\n",
    "___\n",
    "***Note:*** All the code and data we provide are the ones included in the paper. To speed up the notebook execution, by default we trim the files when reading them. Comments on how to run on complete files are provided in the notebook. Note that running the notebook with the complete dataset requires *a PC with significant amount of memory*. "
   ]
  },
  {
   "cell_type": "code",
   "execution_count": 4,
   "id": "accepting-tuning",
   "metadata": {},
   "outputs": [],
   "source": [
    "DEMONSTRATIVE = True"
   ]
  },
  {
   "cell_type": "code",
   "execution_count": 11,
   "id": "funded-international",
   "metadata": {},
   "outputs": [],
   "source": [
    "from config import *\n",
    "from src.preprocess import *\n",
    "import numpy as np\n",
    "from src.corpus import get_services\n",
    "from src.callbacks import *\n",
    "from src.utils import *"
   ]
  },
  {
   "cell_type": "code",
   "execution_count": 12,
   "id": "derived-calculation",
   "metadata": {},
   "outputs": [],
   "source": [
    "import matplotlib.pyplot as plt\n",
    "%matplotlib inline\n",
    "import fastplot\n",
    "from cycler import cycler\n",
    "\n",
    "cc = (cycler('color',['k', 'r', 'b', 'g', 'y', 'm', 'c'])+\n",
    "      cycler('linestyle',['-', '--', '-.', ':', '-', '--', '-.']))"
   ]
  },
  {
   "cell_type": "markdown",
   "id": "turned-hepatitis",
   "metadata": {},
   "source": [
    "___\n",
    "# <b>Darknet Traffic Overview</b> <a name=\"darknet\"></a>\n",
    "\n"
   ]
  },
  {
   "cell_type": "markdown",
   "id": "union-mercy",
   "metadata": {},
   "source": [
    "Load 30 days of raw traffic. From 2021-03-02 to 2021-03-31. This is the full dataset we use in our experiments. \n",
    "\n",
    "Here we load an already slightly preprocessed dataset. In [Appendix 3](A03-darknet-checkpoint.ipynb) we provide the scripts for generating this intermediate dataset.\n",
    "\n",
    "Each row of the dataset is a packet received from the darknet. The dataset columns are:\n",
    "\n",
    "- `ts`. It is the timestamp of the packet arrival\n",
    "- `ip`. It is the source IP address sending the packet\n",
    "- `port`. It is the destination (darknet) port\n",
    "- `proto`. Used protocol among TCP, UDP, ICMP, GRE, OTH (for others)\n",
    "- `pp`. `port/proto` pairs used forthis load roughly 6 days only the language definition\n",
    "- `class`. Ground truth class of the source IP"
   ]
  },
  {
   "cell_type": "markdown",
   "id": "dramatic-turning",
   "metadata": {},
   "source": [
    "## Swap the lines below to read the full dataset - As it is now, it loads roughly 6 days only"
   ]
  },
  {
   "cell_type": "code",
   "execution_count": 13,
   "id": "confidential-honduras",
   "metadata": {},
   "outputs": [
    {
     "ename": "KeyboardInterrupt",
     "evalue": "",
     "output_type": "error",
     "traceback": [
      "\u001b[0;31m---------------------------------------------------------------------------\u001b[0m",
      "\u001b[0;31mKeyboardInterrupt\u001b[0m                         Traceback (most recent call last)",
      "Cell \u001b[0;32mIn[13], line 2\u001b[0m\n\u001b[1;32m      1\u001b[0m \u001b[38;5;28;01mif\u001b[39;00m \u001b[38;5;129;01mnot\u001b[39;00m DEMONSTRATIVE: darknet \u001b[38;5;241m=\u001b[39m load_raw_data(\u001b[38;5;124m'\u001b[39m\u001b[38;5;124m202103\u001b[39m\u001b[38;5;124m'\u001b[39m)\n\u001b[0;32m----> 2\u001b[0m \u001b[38;5;28;01melse\u001b[39;00m: darknet \u001b[38;5;241m=\u001b[39m \u001b[43mload_raw_data\u001b[49m\u001b[43m(\u001b[49m\u001b[38;5;124;43m'\u001b[39;49m\u001b[38;5;124;43m2021030*\u001b[39;49m\u001b[38;5;124;43m'\u001b[39;49m\u001b[43m)\u001b[49m\n\u001b[1;32m      4\u001b[0m darknet\u001b[38;5;241m.\u001b[39mhead(\u001b[38;5;241m3\u001b[39m)\n",
      "File \u001b[0;32m/mnt/c/Users/cassi/OneDrive/Desktop/Reumes/CAIDA/iDarkVec/Repo/darkvec/notebooks/src/preprocess.py:92\u001b[0m, in \u001b[0;36mload_raw_data\u001b[0;34m(day)\u001b[0m\n\u001b[1;32m     90\u001b[0m df_list \u001b[38;5;241m=\u001b[39m pool\u001b[38;5;241m.\u001b[39mmap(get_data, iterable)\n\u001b[1;32m     91\u001b[0m pool\u001b[38;5;241m.\u001b[39mclose()\n\u001b[0;32m---> 92\u001b[0m \u001b[43mpool\u001b[49m\u001b[38;5;241;43m.\u001b[39;49m\u001b[43mjoin\u001b[49m\u001b[43m(\u001b[49m\u001b[43m)\u001b[49m\n\u001b[1;32m     93\u001b[0m raw_data \u001b[38;5;241m=\u001b[39m pd\u001b[38;5;241m.\u001b[39mconcat(df_list)\n\u001b[1;32m     94\u001b[0m \u001b[38;5;28;01mreturn\u001b[39;00m raw_data\n",
      "File \u001b[0;32m/usr/lib/python3.10/multiprocessing/pool.py:669\u001b[0m, in \u001b[0;36mPool.join\u001b[0;34m(self)\u001b[0m\n\u001b[1;32m    667\u001b[0m \u001b[38;5;28mself\u001b[39m\u001b[38;5;241m.\u001b[39m_result_handler\u001b[38;5;241m.\u001b[39mjoin()\n\u001b[1;32m    668\u001b[0m \u001b[38;5;28;01mfor\u001b[39;00m p \u001b[38;5;129;01min\u001b[39;00m \u001b[38;5;28mself\u001b[39m\u001b[38;5;241m.\u001b[39m_pool:\n\u001b[0;32m--> 669\u001b[0m     \u001b[43mp\u001b[49m\u001b[38;5;241;43m.\u001b[39;49m\u001b[43mjoin\u001b[49m\u001b[43m(\u001b[49m\u001b[43m)\u001b[49m\n",
      "File \u001b[0;32m/usr/lib/python3.10/multiprocessing/process.py:149\u001b[0m, in \u001b[0;36mBaseProcess.join\u001b[0;34m(self, timeout)\u001b[0m\n\u001b[1;32m    147\u001b[0m \u001b[38;5;28;01massert\u001b[39;00m \u001b[38;5;28mself\u001b[39m\u001b[38;5;241m.\u001b[39m_parent_pid \u001b[38;5;241m==\u001b[39m os\u001b[38;5;241m.\u001b[39mgetpid(), \u001b[38;5;124m'\u001b[39m\u001b[38;5;124mcan only join a child process\u001b[39m\u001b[38;5;124m'\u001b[39m\n\u001b[1;32m    148\u001b[0m \u001b[38;5;28;01massert\u001b[39;00m \u001b[38;5;28mself\u001b[39m\u001b[38;5;241m.\u001b[39m_popen \u001b[38;5;129;01mis\u001b[39;00m \u001b[38;5;129;01mnot\u001b[39;00m \u001b[38;5;28;01mNone\u001b[39;00m, \u001b[38;5;124m'\u001b[39m\u001b[38;5;124mcan only join a started process\u001b[39m\u001b[38;5;124m'\u001b[39m\n\u001b[0;32m--> 149\u001b[0m res \u001b[38;5;241m=\u001b[39m \u001b[38;5;28;43mself\u001b[39;49m\u001b[38;5;241;43m.\u001b[39;49m\u001b[43m_popen\u001b[49m\u001b[38;5;241;43m.\u001b[39;49m\u001b[43mwait\u001b[49m\u001b[43m(\u001b[49m\u001b[43mtimeout\u001b[49m\u001b[43m)\u001b[49m\n\u001b[1;32m    150\u001b[0m \u001b[38;5;28;01mif\u001b[39;00m res \u001b[38;5;129;01mis\u001b[39;00m \u001b[38;5;129;01mnot\u001b[39;00m \u001b[38;5;28;01mNone\u001b[39;00m:\n\u001b[1;32m    151\u001b[0m     _children\u001b[38;5;241m.\u001b[39mdiscard(\u001b[38;5;28mself\u001b[39m)\n",
      "File \u001b[0;32m/usr/lib/python3.10/multiprocessing/popen_fork.py:43\u001b[0m, in \u001b[0;36mPopen.wait\u001b[0;34m(self, timeout)\u001b[0m\n\u001b[1;32m     41\u001b[0m             \u001b[38;5;28;01mreturn\u001b[39;00m \u001b[38;5;28;01mNone\u001b[39;00m\n\u001b[1;32m     42\u001b[0m     \u001b[38;5;66;03m# This shouldn't block if wait() returned successfully.\u001b[39;00m\n\u001b[0;32m---> 43\u001b[0m     \u001b[38;5;28;01mreturn\u001b[39;00m \u001b[38;5;28;43mself\u001b[39;49m\u001b[38;5;241;43m.\u001b[39;49m\u001b[43mpoll\u001b[49m\u001b[43m(\u001b[49m\u001b[43mos\u001b[49m\u001b[38;5;241;43m.\u001b[39;49m\u001b[43mWNOHANG\u001b[49m\u001b[43m \u001b[49m\u001b[38;5;28;43;01mif\u001b[39;49;00m\u001b[43m \u001b[49m\u001b[43mtimeout\u001b[49m\u001b[43m \u001b[49m\u001b[38;5;241;43m==\u001b[39;49m\u001b[43m \u001b[49m\u001b[38;5;241;43m0.0\u001b[39;49m\u001b[43m \u001b[49m\u001b[38;5;28;43;01melse\u001b[39;49;00m\u001b[43m \u001b[49m\u001b[38;5;241;43m0\u001b[39;49m\u001b[43m)\u001b[49m\n\u001b[1;32m     44\u001b[0m \u001b[38;5;28;01mreturn\u001b[39;00m \u001b[38;5;28mself\u001b[39m\u001b[38;5;241m.\u001b[39mreturncode\n",
      "File \u001b[0;32m/usr/lib/python3.10/multiprocessing/popen_fork.py:27\u001b[0m, in \u001b[0;36mPopen.poll\u001b[0;34m(self, flag)\u001b[0m\n\u001b[1;32m     25\u001b[0m \u001b[38;5;28;01mif\u001b[39;00m \u001b[38;5;28mself\u001b[39m\u001b[38;5;241m.\u001b[39mreturncode \u001b[38;5;129;01mis\u001b[39;00m \u001b[38;5;28;01mNone\u001b[39;00m:\n\u001b[1;32m     26\u001b[0m     \u001b[38;5;28;01mtry\u001b[39;00m:\n\u001b[0;32m---> 27\u001b[0m         pid, sts \u001b[38;5;241m=\u001b[39m \u001b[43mos\u001b[49m\u001b[38;5;241;43m.\u001b[39;49m\u001b[43mwaitpid\u001b[49m\u001b[43m(\u001b[49m\u001b[38;5;28;43mself\u001b[39;49m\u001b[38;5;241;43m.\u001b[39;49m\u001b[43mpid\u001b[49m\u001b[43m,\u001b[49m\u001b[43m \u001b[49m\u001b[43mflag\u001b[49m\u001b[43m)\u001b[49m\n\u001b[1;32m     28\u001b[0m     \u001b[38;5;28;01mexcept\u001b[39;00m \u001b[38;5;167;01mOSError\u001b[39;00m:\n\u001b[1;32m     29\u001b[0m         \u001b[38;5;66;03m# Child process not yet created. See #1731717\u001b[39;00m\n\u001b[1;32m     30\u001b[0m         \u001b[38;5;66;03m# e.errno == errno.ECHILD == 10\u001b[39;00m\n\u001b[1;32m     31\u001b[0m         \u001b[38;5;28;01mreturn\u001b[39;00m \u001b[38;5;28;01mNone\u001b[39;00m\n",
      "\u001b[0;31mKeyboardInterrupt\u001b[0m: "
     ]
    }
   ],
   "source": [
    "if not DEMONSTRATIVE: darknet = load_raw_data('202103')\n",
    "else: darknet = load_raw_data('2021030*')\n",
    "    \n",
    "darknet.head(3)"
   ]
  },
  {
   "cell_type": "code",
   "execution_count": 14,
   "id": "pressing-consent",
   "metadata": {},
   "outputs": [
    {
     "name": "stdout",
     "output_type": "stream",
     "text": [
      "Traffic stats: \n"
     ]
    },
    {
     "ename": "NameError",
     "evalue": "name 'darknet' is not defined",
     "output_type": "error",
     "traceback": [
      "\u001b[0;31m---------------------------------------------------------------------------\u001b[0m",
      "\u001b[0;31mNameError\u001b[0m                                 Traceback (most recent call last)",
      "Cell \u001b[0;32mIn[14], line 2\u001b[0m\n\u001b[1;32m      1\u001b[0m \u001b[38;5;28mprint\u001b[39m(\u001b[38;5;124mf\u001b[39m\u001b[38;5;124m'\u001b[39m\u001b[38;5;124mTraffic stats: \u001b[39m\u001b[38;5;124m'\u001b[39m)\n\u001b[0;32m----> 2\u001b[0m \u001b[38;5;28mprint\u001b[39m(\u001b[38;5;124mf\u001b[39m\u001b[38;5;124m'\u001b[39m\u001b[38;5;132;01m{\u001b[39;00m\u001b[43mdarknet\u001b[49m\u001b[38;5;241m.\u001b[39mip\u001b[38;5;241m.\u001b[39munique()\u001b[38;5;241m.\u001b[39mshape[\u001b[38;5;241m0\u001b[39m]\u001b[38;5;132;01m:\u001b[39;00m\u001b[38;5;124m,\u001b[39m\u001b[38;5;132;01m}\u001b[39;00m\u001b[38;5;124m distinct source IPs\u001b[39m\u001b[38;5;124m'\u001b[39m)\n\u001b[1;32m      3\u001b[0m \u001b[38;5;28mprint\u001b[39m(\u001b[38;5;124mf\u001b[39m\u001b[38;5;124m\"\u001b[39m\u001b[38;5;132;01m{\u001b[39;00mdarknet\u001b[38;5;241m.\u001b[39mpp\u001b[38;5;241m.\u001b[39munique()\u001b[38;5;241m.\u001b[39mshape[\u001b[38;5;241m0\u001b[39m]\u001b[38;5;132;01m:\u001b[39;00m\u001b[38;5;124m,\u001b[39m\u001b[38;5;132;01m}\u001b[39;00m\u001b[38;5;124m destination \u001b[39m\u001b[38;5;124m'\u001b[39m\u001b[38;5;124mport/protocol\u001b[39m\u001b[38;5;124m'\u001b[39m\u001b[38;5;124m pairs.\u001b[39m\u001b[38;5;124m\"\u001b[39m)\n\u001b[1;32m      4\u001b[0m \u001b[38;5;28mprint\u001b[39m(\u001b[38;5;124mf\u001b[39m\u001b[38;5;124m'\u001b[39m\u001b[38;5;132;01m{\u001b[39;00mdarknet\u001b[38;5;241m.\u001b[39mshape[\u001b[38;5;241m0\u001b[39m]\u001b[38;5;132;01m:\u001b[39;00m\u001b[38;5;124m,\u001b[39m\u001b[38;5;132;01m}\u001b[39;00m\u001b[38;5;124m received packets\u001b[39m\u001b[38;5;124m'\u001b[39m)\n",
      "\u001b[0;31mNameError\u001b[0m: name 'darknet' is not defined"
     ]
    }
   ],
   "source": [
    "print(f'Traffic stats: ')\n",
    "print(f'{darknet.ip.unique().shape[0]:,} distinct source IPs')\n",
    "print(f\"{darknet.pp.unique().shape[0]:,} destination 'port/protocol' pairs.\")\n",
    "print(f'{darknet.shape[0]:,} received packets')\n",
    "print(f'Dataset shape: {darknet.shape}')"
   ]
  },
  {
   "cell_type": "markdown",
   "id": "meaningful-librarian",
   "metadata": {},
   "source": [
    "### <b>Port Ranking</b> <a name=\"portranking\"></a>  \n",
    "\n",
    "\n",
    "Next we characterize the darknet. We focus on the port popularity in terms of received packets. "
   ]
  },
  {
   "cell_type": "code",
   "execution_count": null,
   "id": "monetary-abraham",
   "metadata": {},
   "outputs": [],
   "source": [
    "# Get the port frequency from 30 days of traffic\n",
    "top14 = darknet.value_counts('port').reset_index().rename(columns={0:'pkts'})\n",
    "# Compute the ECDF(packets)\n",
    "pkts = top14.sort_values('pkts', ascending=False)\n",
    "pkts.pkts = np.cumsum(pkts.pkts)/np.sum(pkts.pkts)\n",
    "# Zoom-in: Get the top-14 ports within 30 days\n",
    "top = top14.sort_values('pkts', ascending=False)\n",
    "top.pkts = np.cumsum(top.pkts)/np.sum(top14.pkts)\n",
    "top = top.iloc[:14]"
   ]
  },
  {
   "cell_type": "code",
   "execution_count": null,
   "id": "universal-convenience",
   "metadata": {},
   "outputs": [],
   "source": [
    "%matplotlib inline\n",
    "plot = fastplot.plot(None,  None, mode = 'callback', callback = lambda plt: portRanking(plt, pkts, top),\n",
    "                      cycler=cc, figsize=(5, 3.5), fontsize=14, style='latex')\n",
    "if not DEMONSTRATIVE:\n",
    "    plot.savefig(f'reports/figures/top20.pdf')\n",
    "plot.show()"
   ]
  },
  {
   "cell_type": "markdown",
   "id": "temporal-heather",
   "metadata": {},
   "source": [
    "### <b>Darknet IPs Activity Pattern</b> <a name=\"darknetpattern\"></a>  \n",
    "\n",
    "\n",
    "To provide the big picture, we visualize some IP addresses activity pattern.\n",
    "\n",
    "We extract a time window shorter than 30 days and downsample the received traffic (modulo 3) to make the patterns more evident. Then a scatterplot is generated. Here, each dot is a packet sent by an IP $y$ at the istant $x$."
   ]
  },
  {
   "cell_type": "code",
   "execution_count": null,
   "id": "understood-strand",
   "metadata": {},
   "outputs": [],
   "source": [
    "# Extract a 9 days window to make the IPs patterns more evident\n",
    "tday_ = darknet[darknet.ts<='2021-3-11 23:28:56.952226'][['ts', 'ip']]\n",
    "tday = pd.DataFrame(tday_, columns=['ts', 'ip'])\n",
    "# Manage timestamps and sort them\n",
    "tday.index = pd.DatetimeIndex(tday.ts)\n",
    "tday = tday.sort_index()\n",
    "tday = tday.drop(columns=['ts'])\n",
    "# Tokenize IPs. From string to integer number\n",
    "ydict = {v: k for k,v in enumerate(tday.ip.unique())}\n",
    "tday['tkn'] = tday.ip.apply(lambda x: ydict[x])\n",
    "# mod3 downsampling for reducing the image weight\n",
    "resampled_idx = [x for x in range(tday.shape[0]) if x%3 == 0]\n",
    "tday = tday.iloc[resampled_idx]"
   ]
  },
  {
   "cell_type": "code",
   "execution_count": null,
   "id": "cubic-trial",
   "metadata": {},
   "outputs": [],
   "source": [
    "%matplotlib inline\n",
    "plot = fastplot.plot(None,  None, mode = 'callback', callback = lambda plt: darknetPatterns(plt, tday),\n",
    "                      cycler=cc, figsize=(5, 3.5), fontsize=14, style='latex')\n",
    "if not DEMONSTRATIVE:\n",
    "    plot.savefig(f'reports/figures/density.png')\n",
    "plot.show()"
   ]
  },
  {
   "cell_type": "markdown",
   "id": "biological-costa",
   "metadata": {},
   "source": [
    "### <b>Dataset Statistics</b> <a name=\"dataset\"></a>  \n",
    "\n",
    "We improve the knowledge about the dataset by providing some statistics for both 30 days of darknet traffic and 1 day. In this second case the considered day is the 30^{th} of the full dataset."
   ]
  },
  {
   "cell_type": "code",
   "execution_count": null,
   "id": "spread-association",
   "metadata": {},
   "outputs": [],
   "source": [
    "df30 = darknet.copy()\n",
    "df1 = load_raw_data('20210331')"
   ]
  },
  {
   "cell_type": "code",
   "execution_count": null,
   "id": "bearing-trunk",
   "metadata": {},
   "outputs": [],
   "source": [
    "# Number of IPs\n",
    "ip1 = df1.ip.unique().shape[0]\n",
    "ip30 = df30.ip.unique().shape[0]\n",
    "# Number of packets\n",
    "pkts1 = df1.shape[0]\n",
    "pkts30 = df30.shape[0]\n",
    "# Number of ports\n",
    "port1 = df1.port.unique().shape[0]\n",
    "port30 = df30.port.unique().shape[0]\n",
    "# Top-3 ports\n",
    "top3_1 = df1.value_counts('pp').index[:3]\n",
    "top3_30 = df30.value_counts('pp').index[:3]\n",
    "# Packets of top-3 ports\n",
    "top3pkts1 = (df1.value_counts('pp')/df1.shape[0]*100).values[:3]\n",
    "top3pkts30 = (df30.value_counts('pp')/df30.shape[0]*100).values[:3]"
   ]
  },
  {
   "cell_type": "markdown",
   "id": "british-robert",
   "metadata": {},
   "source": [
    "Get the IPs targeting the top-3 ports of the considered datasets"
   ]
  },
  {
   "cell_type": "code",
   "execution_count": null,
   "id": "recent-perspective",
   "metadata": {},
   "outputs": [],
   "source": [
    "df1[df1.pp.isin(top3_1)].groupby('pp').agg({'ip':lambda x: len(set(x))})"
   ]
  },
  {
   "cell_type": "code",
   "execution_count": null,
   "id": "narrow-anniversary",
   "metadata": {},
   "outputs": [],
   "source": [
    "df30[df30.pp.isin(top3_30)].groupby('pp').agg({'ip':lambda x: len(set(x))})"
   ]
  },
  {
   "cell_type": "code",
   "execution_count": null,
   "id": "veterinary-summary",
   "metadata": {},
   "outputs": [],
   "source": [
    "# Collect statistics\n",
    "print('Date ($YYYY-MM-DD$):')\n",
    "print(f'\\tLast Day: 2021-03-31')\n",
    "print(f'\\tFull Dataset: [2021-03-02, 2021-03-31]')\n",
    "\n",
    "print('Sources:')\n",
    "print(f'\\tLast Day: {ip1}')\n",
    "print(f'\\tFull Dataset: {ip30}')\n",
    "\n",
    "print('Packets:')\n",
    "print(f'\\tLast Day: {pkts1}')\n",
    "print(f'\\tFull Dataset: {pkts30}')\n",
    "\n",
    "print('Ports:')\n",
    "print(f'\\tLast Day: {port1}')\n",
    "print(f'\\tFull Dataset: {port30}')\n",
    "\n",
    "print('Top-3 ports (\\% of traffic):')\n",
    "print(f'\\tLast Day: {top3_1[0]} ({round(top3pkts1[0], 2)}\\%), {top3_1[1]} ({round(top3pkts1[1], 2)}\\%),{top3_1[2]} ({round(top3pkts1[2], 2)}\\%)')\n",
    "print(f'\\tFull Dataset: {top3_30[0]} ({round(top3pkts30[0], 2)}\\%), {top3_30[1]} ({round(top3pkts30[1], 2)}\\%),{top3_30[2]} ({round(top3pkts30[2], 2)}\\%)')"
   ]
  },
  {
   "cell_type": "markdown",
   "id": "tamil-douglas",
   "metadata": {},
   "source": [
    "### <b>Filter Definition</b> <a name=\"darknetfilter\"></a>  \n",
    "\n",
    "\n",
    "Given the large amount of packets received in 30 days, a filter is needed to improve visualization and reduce noisy traffic (e.g., senders that send only a couple of packets in a month are not interesting for this analysis). \n",
    "\n",
    "We design our filter with respect to the monthly packets sent by each IP. We evaluate the distribution of this amount and set the filtering threshold to 10 packets. In this way, we keep the IP addresses sending _at least 10 packets over a month_."
   ]
  },
  {
   "cell_type": "code",
   "execution_count": null,
   "id": "detailed-bolivia",
   "metadata": {},
   "outputs": [],
   "source": [
    "# Count the packets per IP over a month\n",
    "cdf = darknet.value_counts('ip').reset_index().drop(columns=['ip'])\\\n",
    "             .rename(columns={0:'pkts'}).value_counts('pkts')\n",
    "# Get the ECDF\n",
    "cdf = cdf.sort_index()\n",
    "cdf = np.cumsum(cdf)/np.sum(cdf)"
   ]
  },
  {
   "cell_type": "code",
   "execution_count": null,
   "id": "naughty-sleeping",
   "metadata": {},
   "outputs": [],
   "source": [
    "%matplotlib inline\n",
    "plot = fastplot.plot(None,  None, mode = 'callback', callback = lambda plt: filterECDF(plt, cdf),\n",
    "                      cycler=cc, figsize=(5, 3.5), fontsize=14, style='latex')\n",
    "if not DEMONSTRATIVE:\n",
    "    plot.savefig(f'reports/figures/pkts_cdf.pdf')\n",
    "plot.show()"
   ]
  },
  {
   "cell_type": "markdown",
   "id": "documentary-springfield",
   "metadata": {},
   "source": [
    "### <b>Distinct IPs Seen Over 30 Days</b> <a name=\"darknetips\"></a>  \n",
    "\n",
    "\n",
    "After having filtering the dataset, we investigate the impact of the filter impact on the full 30 days dataset. Thus, we compare the number of distinct IPs seen on each day over the observation period between the filtered and unfiltered dataset."
   ]
  },
  {
   "cell_type": "code",
   "execution_count": null,
   "id": "worse-librarian",
   "metadata": {},
   "outputs": [],
   "source": [
    "dnet = darknet.copy()\n",
    "# Count the number of packet per IPs for defining the filter\n",
    "ips = darknet.value_counts('ip')\n",
    "# Filter: keep IPs sending at least 10 packets\n",
    "ips_f = set(ips[ips>=10].index)\n",
    "# Apply the filter\n",
    "dnet_f = dnet[dnet.ip.isin(ips_f)]\n",
    "\n",
    "# Get the number of distinc IPs per day in both the filtered\n",
    "# and unfiltered case\n",
    "dnet = get_ip_set_by_day(dnet)\n",
    "dnet_f = get_ip_set_by_day(dnet_f)\n",
    "# Make the DataFrame for the fastplot callback\n",
    "cdf = pd.DataFrame(get_ips_ecdf(dnet))[1].values\n",
    "cdf_f = pd.DataFrame(get_ips_ecdf(dnet_f))[1].values"
   ]
  },
  {
   "cell_type": "code",
   "execution_count": null,
   "id": "smaller-wellington",
   "metadata": {},
   "outputs": [],
   "source": [
    "%matplotlib inline\n",
    "plot = fastplot.plot(None,  None, mode = 'callback', callback = lambda plt: filterCoverage(plt, cdf, cdf_f),\n",
    "                      cycler=cc, figsize=(5, 3.5), fontsize=14, style='latex')\n",
    "if not DEMONSTRATIVE:\n",
    "    plot.savefig(f'reports/figures/daily_ips_v2.pdf')\n",
    "plot.show()"
   ]
  },
  {
   "cell_type": "markdown",
   "id": "neutral-cannon",
   "metadata": {},
   "source": [
    "___\n",
    "# <b>Last Day of Traffic</b> <a name=\"lastday\"></a>\n",
    "\n",
    "\n",
    "\n",
    "We now show characteristics of the last day of darknet traffic used in some experiments. We report in [Appendix 3](A03-darknet-checkpoint.ipynb) the scripts for generating this sample. Then we apply the filter and provide some statistics on the ground truth. Finally we extract some notable activity patterns."
   ]
  },
  {
   "cell_type": "code",
   "execution_count": null,
   "id": "turkish-minnesota",
   "metadata": {},
   "outputs": [],
   "source": [
    "raw_data = load_raw_data('20210331')\n",
    "daily = filter_data(raw_data, '20210331')"
   ]
  },
  {
   "cell_type": "code",
   "execution_count": null,
   "id": "black-cover",
   "metadata": {},
   "outputs": [],
   "source": [
    "# Load the ground truth\n",
    "gt = pd.read_csv(GT).drop(columns=['Unnamed: 0'])\n",
    "ips = daily.ip.unique()\n",
    "# Get the lookup dataframe to retrieve\n",
    "# the ground truth class of the last day senders\n",
    "lookup = pd.DataFrame(ips, columns=['ip'])\\\n",
    "           .merge(gt, on='ip', how='left')\\\n",
    "           .fillna('unknown').replace({ 'criminalip':'unknown', \n",
    "                'adscore':'unknown', 'quadmetrics':'unknown', \n",
    "                'esrg_stanford':'unknown', 'netscout':'unknown'})\n",
    "lookup = lookup.rename(columns={'gt':'class'})\n",
    "print(lookup.shape)\n",
    "lookup.head(3)"
   ]
  },
  {
   "cell_type": "markdown",
   "id": "democratic-uzbekistan",
   "metadata": {},
   "source": [
    "Then we apply the filter keeping the IPs sending at least 10 packets over 30 days. Then we extract some statistics about the ground truth"
   ]
  },
  {
   "cell_type": "code",
   "execution_count": null,
   "id": "settled-father",
   "metadata": {},
   "outputs": [],
   "source": [
    "daily = daily.merge(lookup, on='ip', how='left')\n",
    "# Collect the statistics\n",
    "stats = [get_last_day_stats(daily, x) for x in daily['class'].unique()]\n",
    "pd.DataFrame(stats, columns=['Source', 'Senders', 'Packets', \n",
    "                             'Ports', 'Top-5 Ports (% Traffic)'])\\\n",
    "  .sort_values('Senders', ascending=False)"
   ]
  },
  {
   "cell_type": "markdown",
   "id": "collaborative-significance",
   "metadata": {},
   "source": [
    "### <b>Some Notable GT Activity Patterns</b> <a name=\"gtpattern\"></a> \n",
    "\n",
    "\n",
    "\n",
    "By applying the same technique as before, we extract the activity patterns plot for two ground truth classes: Engin-Umich and Stretchoid.\n"
   ]
  },
  {
   "cell_type": "code",
   "execution_count": null,
   "id": "social-latin",
   "metadata": {},
   "outputs": [],
   "source": [
    "if not 'class' in darknet:\n",
    "    darknet = darknet.merge(lookup, on='ip', how='left')\n",
    "# Extract the stretchoid traces from the full darknet ones\n",
    "stretchoid = darknet[darknet['class'] == 'stretchoid']\n",
    "stretchoid.index = pd.DatetimeIndex(stretchoid.ts)\n",
    "stretchoid = stretchoid.sort_index()\n",
    "# Tokenize Stretchoid IPs\n",
    "ydict = {v: k for k,v in enumerate(stretchoid.ip.unique())}\n",
    "stretchoid['tkn'] = stretchoid.ip.apply(lambda x: ydict[x])\n",
    "# Build the activity patterns timeseries\n",
    "stretchoid = stretchoid[['ip', 'tkn']]\n",
    "stretchoid.head()"
   ]
  },
  {
   "cell_type": "code",
   "execution_count": null,
   "id": "liked-dayton",
   "metadata": {},
   "outputs": [],
   "source": [
    "%matplotlib inline\n",
    "plot = fastplot.plot(None,  None, mode = 'callback', callback = lambda plt: stretchoidPattern(plt, stretchoid),\n",
    "                      cycler=cc, figsize=(5, 3.5), fontsize=14, style='latex')\n",
    "if not DEMONSTRATIVE:\n",
    "    plot.savefig(f'reports/figures/stretchoid_pattern.png')\n",
    "plot.show()"
   ]
  },
  {
   "cell_type": "code",
   "execution_count": null,
   "id": "egyptian-society",
   "metadata": {},
   "outputs": [],
   "source": [
    "# Extract the engin-umich traces from the full darknet ones\n",
    "en_um = darknet[darknet['class'] == 'engin-umich']\n",
    "en_um.index = pd.DatetimeIndex(en_um.ts)\n",
    "# Tokenize Stretchoid IPs\n",
    "ydict = {v: k for k,v in enumerate(en_um.ip.unique())}\n",
    "en_um['tkn'] = en_um.ip.apply(lambda x: ydict[x])\n",
    "# Build the activity patterns timeseries\n",
    "en_um = en_um[['ip', 'tkn']]\n",
    "en_um.head()"
   ]
  },
  {
   "cell_type": "code",
   "execution_count": null,
   "id": "dominant-digit",
   "metadata": {},
   "outputs": [],
   "source": [
    "%matplotlib inline\n",
    "plot = fastplot.plot(None,  None, mode = 'callback', callback = lambda plt: enginumichPattern(plt, en_um),\n",
    "                      cycler=cc, figsize=(5, 3.5), fontsize=12, style='latex')\n",
    "if not DEMONSTRATIVE:\n",
    "    plot.savefig(f'reports/figures/engin_umich_pattern.png')\n",
    "plot.show()"
   ]
  },
  {
   "cell_type": "markdown",
   "id": "piano-amino",
   "metadata": {},
   "source": [
    "### <b>Ground Truth/Services Incidence</b> <a name=\"gtserv\"></a> \n",
    "\n",
    "\n",
    "\n",
    "Generate an heatmap indicating the fraction of GT class packets sent to ports used by general-purpose services.\n"
   ]
  },
  {
   "cell_type": "code",
   "execution_count": null,
   "id": "realistic-killer",
   "metadata": {},
   "outputs": [],
   "source": [
    "raw_data = load_raw_data('20210331')\n",
    "daily = filter_data(raw_data, '20210331')\n",
    "# Get the class of services\n",
    "daily['serv'] = daily.pp.apply(get_services)\n",
    "# Add a ones column for packets sum\n",
    "daily['pkts'] = 1\n",
    "daily = daily.merge(lookup, on='ip', how='left')\n",
    "daily = daily.replace({'unk_usr':'others', 'unk_sys':'others', \n",
    "                       'unk_eph':'others', 'proxy':'others'})\n",
    "daily.head(3)"
   ]
  },
  {
   "cell_type": "code",
   "execution_count": null,
   "id": "driven-teens",
   "metadata": {},
   "outputs": [],
   "source": [
    "pivot = daily.pivot_table(values='pkts', index='class', columns='serv', \n",
    "                       aggfunc='sum')\\\n",
    "          .reindex(columns=daily.serv.unique())\\\n",
    "          .fillna(.0)\n",
    "pivot = pivot.divide(pivot.sum(axis=1), axis='rows').round(2).T"
   ]
  },
  {
   "cell_type": "code",
   "execution_count": null,
   "id": "interesting-outside",
   "metadata": {},
   "outputs": [],
   "source": [
    "%matplotlib inline\n",
    "plot = fastplot.plot(None,  None, mode = 'callback', callback = lambda plt: ground_truth_heatmap(plt, pivot),\n",
    "                      figsize=(10, 8), fontsize=22, xticks_rotate=45, style='latex')\n",
    "if not DEMONSTRATIVE:\n",
    "    plot.savefig(f'reports/figures/heatmap_gt_serv.pdf')\n",
    "plot.show()"
   ]
  }
 ],
 "metadata": {
  "interpreter": {
   "hash": "76412cba8ad6a91d2736c26d25fa5f0599289ad186a984c90232da03eaf890f3"
  },
  "kernelspec": {
   "display_name": "Python 3 (ipykernel)",
   "language": "python",
   "name": "python3"
  },
  "language_info": {
   "codemirror_mode": {
    "name": "ipython",
    "version": 3
   },
   "file_extension": ".py",
   "mimetype": "text/x-python",
   "name": "python",
   "nbconvert_exporter": "python",
   "pygments_lexer": "ipython3",
   "version": "3.10.12"
  }
 },
 "nbformat": 4,
 "nbformat_minor": 5
}
